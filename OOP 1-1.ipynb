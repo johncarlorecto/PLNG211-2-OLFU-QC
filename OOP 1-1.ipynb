{
  "nbformat": 4,
  "nbformat_minor": 0,
  "metadata": {
    "colab": {
      "provenance": [],
      "authorship_tag": "ABX9TyPW6Lt1N8L1xcR7yDKnw/XN",
      "include_colab_link": true
    },
    "kernelspec": {
      "name": "python3",
      "display_name": "Python 3"
    },
    "language_info": {
      "name": "python"
    }
  },
  "cells": [
    {
      "cell_type": "markdown",
      "metadata": {
        "id": "view-in-github",
        "colab_type": "text"
      },
      "source": [
        "<a href=\"https://colab.research.google.com/github/johncarlorecto/PLNG211-2-OLFU-QC/blob/main/OOP%201-1.ipynb\" target=\"_parent\"><img src=\"https://colab.research.google.com/assets/colab-badge.svg\" alt=\"Open In Colab\"/></a>"
      ]
    },
    {
      "cell_type": "code",
      "source": [
        "class Student:\n",
        "  def __init__( Student,Name,StudentNo,Age,School,Course):\n",
        "    Student.Name = Name\n",
        "    Student.StudentNo = StudentNo\n",
        "    Student.Age = Age\n",
        "    Student.School = School\n",
        "    Student.Course = Course\n",
        "  def myFunction(Student):\n",
        "      print(Student.Name)\n",
        "      print(Student.StudentNo)\n",
        "      print(Student.Age)\n",
        "      print(Student.School)\n",
        "      print(Student.Course)\n",
        "\n",
        "\n",
        "p1 = Student(\"John Carlo A. Recto\",\"02210007214\",21,\"OLFU QC\",\"BSCS\") \n",
        "p1.myFunction()\n",
        "     "
      ],
      "metadata": {
        "colab": {
          "base_uri": "https://localhost:8080/"
        },
        "id": "WDLyU9j2TUGo",
        "outputId": "4b3928bf-6bf7-4c35-e1e7-981eec10de36"
      },
      "execution_count": 9,
      "outputs": [
        {
          "output_type": "stream",
          "name": "stdout",
          "text": [
            "John Carlo A. Recto\n",
            "02210007214\n",
            "21\n",
            "OLFU QC\n",
            "BSCS\n"
          ]
        }
      ]
    }
  ]
}