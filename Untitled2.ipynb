{
  "nbformat": 4,
  "nbformat_minor": 0,
  "metadata": {
    "colab": {
      "provenance": [],
      "authorship_tag": "ABX9TyOLXUJ5AYbSgepMBHAOMksE",
      "include_colab_link": true
    },
    "kernelspec": {
      "name": "python3",
      "display_name": "Python 3"
    },
    "language_info": {
      "name": "python"
    }
  },
  "cells": [
    {
      "cell_type": "markdown",
      "metadata": {
        "id": "view-in-github",
        "colab_type": "text"
      },
      "source": [
        "<a href=\"https://colab.research.google.com/github/johncarlorecto/PLNG211-2-OLFU-QC/blob/main/Untitled2.ipynb\" target=\"_parent\"><img src=\"https://colab.research.google.com/assets/colab-badge.svg\" alt=\"Open In Colab\"/></a>"
      ]
    },
    {
      "cell_type": "code",
      "execution_count": 4,
      "metadata": {
        "colab": {
          "base_uri": "https://localhost:8080/"
        },
        "id": "pfdf2gpiVj_n",
        "outputId": "70345ea5-4243-456e-f963-afd18bfd57df"
      },
      "outputs": [
        {
          "output_type": "stream",
          "name": "stdout",
          "text": [
            "Salary:  9000\n",
            "Taxable Amount:  2700.0\n",
            "Net Pay:  6300.0\n"
          ]
        }
      ],
      "source": [
        "Rate=600\n",
        "Salary=600*15\n",
        "Tax=Salary*.3\n",
        "Net_pay=Salary-Tax\n",
        "print(\"Salary: \", Salary)\n",
        "print(\"Taxable Amount: \", Tax)\n",
        "print(\"Net Pay: \", Net_pay)"
      ]
    }
  ]
}